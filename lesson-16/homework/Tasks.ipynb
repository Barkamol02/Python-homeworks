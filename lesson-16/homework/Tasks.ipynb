{
 "cells": [
  {
   "cell_type": "code",
   "execution_count": 1,
   "metadata": {},
   "outputs": [],
   "source": [
    "import sqlite3\n",
    "import pandas as pd"
   ]
  },
  {
   "cell_type": "code",
   "execution_count": 2,
   "metadata": {},
   "outputs": [
    {
     "name": "stdout",
     "output_type": "stream",
     "text": [
      "   CustomerId  FirstName     LastName  \\\n",
      "0           1       Luís    Gonçalves   \n",
      "1           2     Leonie       Köhler   \n",
      "2           3   François     Tremblay   \n",
      "3           4      Bjørn       Hansen   \n",
      "4           5  František  Wichterlová   \n",
      "5           6     Helena         Holý   \n",
      "6           7     Astrid       Gruber   \n",
      "7           8       Daan      Peeters   \n",
      "8           9       Kara      Nielsen   \n",
      "9          10    Eduardo      Martins   \n",
      "\n",
      "                                            Company  \\\n",
      "0  Embraer - Empresa Brasileira de Aeronáutica S.A.   \n",
      "1                                              None   \n",
      "2                                              None   \n",
      "3                                              None   \n",
      "4                                  JetBrains s.r.o.   \n",
      "5                                              None   \n",
      "6                                              None   \n",
      "7                                              None   \n",
      "8                                              None   \n",
      "9                                  Woodstock Discos   \n",
      "\n",
      "                                Address                 City State  \\\n",
      "0       Av. Brigadeiro Faria Lima, 2170  São José dos Campos    SP   \n",
      "1               Theodor-Heuss-Straße 34            Stuttgart  None   \n",
      "2                     1498 rue Bélanger             Montréal    QC   \n",
      "3                      Ullevålsveien 14                 Oslo  None   \n",
      "4                         Klanova 9/506               Prague  None   \n",
      "5                         Rilská 3174/6               Prague  None   \n",
      "6  Rotenturmstraße 4, 1010 Innere Stadt               Vienne  None   \n",
      "7                       Grétrystraat 63             Brussels  None   \n",
      "8                   Sønder Boulevard 51           Copenhagen  None   \n",
      "9             Rua Dr. Falcão Filho, 155            São Paulo    SP   \n",
      "\n",
      "          Country PostalCode               Phone                 Fax  \\\n",
      "0          Brazil  12227-000  +55 (12) 3923-5555  +55 (12) 3923-5566   \n",
      "1         Germany      70174    +49 0711 2842222                None   \n",
      "2          Canada    H2G 1A7   +1 (514) 721-4711                None   \n",
      "3          Norway       0171     +47 22 44 22 22                None   \n",
      "4  Czech Republic      14700    +420 2 4172 5555    +420 2 4172 5555   \n",
      "5  Czech Republic      14300    +420 2 4177 0449                None   \n",
      "6         Austria       1010      +43 01 5134505                None   \n",
      "7         Belgium       1000    +32 02 219 03 03                None   \n",
      "8         Denmark       1720      +453 3331 9991                None   \n",
      "9          Brazil  01007-010  +55 (11) 3033-5446  +55 (11) 3033-4564   \n",
      "\n",
      "                      Email  SupportRepId  \n",
      "0      luisg@embraer.com.br             3  \n",
      "1     leonekohler@surfeu.de             5  \n",
      "2       ftremblay@gmail.com             3  \n",
      "3     bjorn.hansen@yahoo.no             4  \n",
      "4  frantisekw@jetbrains.com             4  \n",
      "5           hholy@gmail.com             5  \n",
      "6    astrid.gruber@apple.at             5  \n",
      "7     daan_peeters@apple.be             4  \n",
      "8     kara.nielsen@jubii.dk             4  \n",
      "9  eduardo@woodstock.com.br             4  \n"
     ]
    }
   ],
   "source": [
    "conn = sqlite3.connect(\"chinook.db\")\n",
    "customers_df = pd.read_sql_query(\"SELECT * FROM customers\", conn)\n",
    "print(customers_df.head(10))\n",
    "conn.close()"
   ]
  },
  {
   "cell_type": "code",
   "execution_count": 3,
   "metadata": {},
   "outputs": [
    {
     "name": "stdout",
     "output_type": "stream",
     "text": [
      "(150, 5)\n",
      "Column names: ['sepalLength', 'sepalWidth', 'petalLength', 'petalWidth', 'species']\n"
     ]
    }
   ],
   "source": [
    "iris_df = pd.read_json(\"iris.json\")\n",
    "print(iris_df.shape)\n",
    "print(\"Column names:\", iris_df.columns.tolist())"
   ]
  },
  {
   "cell_type": "code",
   "execution_count": 4,
   "metadata": {},
   "outputs": [
    {
     "name": "stdout",
     "output_type": "stream",
     "text": [
      "   PassengerId  Survived  Pclass  \\\n",
      "0            1         0       3   \n",
      "1            2         1       1   \n",
      "2            3         1       3   \n",
      "3            4         1       1   \n",
      "4            5         0       3   \n",
      "\n",
      "                                                Name     Sex   Age  SibSp  \\\n",
      "0                            Braund, Mr. Owen Harris    male  22.0      1   \n",
      "1  Cumings, Mrs. John Bradley (Florence Briggs Th...  female  38.0      1   \n",
      "2                             Heikkinen, Miss. Laina  female  26.0      0   \n",
      "3       Futrelle, Mrs. Jacques Heath (Lily May Peel)  female  35.0      1   \n",
      "4                           Allen, Mr. William Henry    male  35.0      0   \n",
      "\n",
      "   Parch            Ticket     Fare Cabin Embarked  \n",
      "0      0         A/5 21171   7.2500   NaN        S  \n",
      "1      0          PC 17599  71.2833   C85        C  \n",
      "2      0  STON/O2. 3101282   7.9250   NaN        S  \n",
      "3      0            113803  53.1000  C123        S  \n",
      "4      0            373450   8.0500   NaN        S  \n"
     ]
    }
   ],
   "source": [
    "titanic_df = pd.read_excel(\"titanic.xlsx\")\n",
    "print(titanic_df.head(5))"
   ]
  },
  {
   "cell_type": "code",
   "execution_count": 5,
   "metadata": {},
   "outputs": [
    {
     "name": "stdout",
     "output_type": "stream",
     "text": [
      "      color      director_name  num_critic_for_reviews  duration  \\\n",
      "2542  Color        Adam Rifkin                    42.0      95.0   \n",
      "370   Color        Rob Minkoff                   122.0      88.0   \n",
      "4488  Color        Nick Tomnay                   112.0      93.0   \n",
      "265   Color         Gavin Hood                   326.0     114.0   \n",
      "1721  Color      Edward Norton                   148.0     128.0   \n",
      "2286  Color    Jonathan Glazer                   167.0     100.0   \n",
      "4541  Color         C. Jay Cox                    35.0     107.0   \n",
      "998   Color                NaN                     4.0      60.0   \n",
      "372   Color     Paul Verhoeven                   180.0     119.0   \n",
      "3830  Color  Richard Linklater                   548.0     165.0   \n",
      "\n",
      "      director_facebook_likes  actor_3_facebook_likes       actor_2_name  \\\n",
      "2542                     89.0                   322.0          Lin Shaye   \n",
      "370                      50.0                   441.0     Rachael Harris   \n",
      "4488                     11.0                   271.0    Clayne Crawford   \n",
      "265                     151.0                   430.0       Moises Arias   \n",
      "1721                      0.0                   754.0       Milos Forman   \n",
      "2286                    143.0                   430.0         Anne Heche   \n",
      "4541                      6.0                   522.0     Rob McElhenney   \n",
      "998                       NaN                   398.0    Brittany Curran   \n",
      "372                     719.0                   423.0        Kim Dickens   \n",
      "3830                      0.0                   127.0  Lorelei Linklater   \n",
      "\n",
      "      actor_1_facebook_likes       gross  \\\n",
      "2542                  1000.0   4193025.0   \n",
      "370                    691.0  75817994.0   \n",
      "4488                   443.0     48430.0   \n",
      "265                  11000.0  61656849.0   \n",
      "1721                   955.0  37036404.0   \n",
      "2286                   829.0   5005883.0   \n",
      "4541                 23000.0    819939.0   \n",
      "998                    629.0         NaN   \n",
      "372                    833.0  73209340.0   \n",
      "3830                   230.0  25359200.0   \n",
      "\n",
      "                                    genres  ... num_user_for_reviews language  \\\n",
      "2542                          Comedy|Music  ...                194.0  English   \n",
      "370   Comedy|Family|Fantasy|Horror|Mystery  ...                179.0  English   \n",
      "4488                 Comedy|Crime|Thriller  ...                 73.0  English   \n",
      "265                          Action|Sci-Fi  ...                554.0  English   \n",
      "1721                  Comedy|Drama|Romance  ...                259.0  English   \n",
      "2286        Drama|Mystery|Romance|Thriller  ...                361.0  English   \n",
      "4541                  Comedy|Drama|Romance  ...                252.0  English   \n",
      "998                 Drama|Mystery|Thriller  ...                 22.0  English   \n",
      "372          Action|Horror|Sci-Fi|Thriller  ...                628.0  English   \n",
      "3830                                 Drama  ...                836.0  English   \n",
      "\n",
      "      country  content_rating       budget  title_year actor_2_facebook_likes  \\\n",
      "2542      USA               R   15000000.0      1999.0                  852.0   \n",
      "370       USA              PG   90000000.0      2003.0                  569.0   \n",
      "4488      USA               R     500000.0      2010.0                  298.0   \n",
      "265       USA           PG-13  110000000.0      2013.0                  635.0   \n",
      "1721      USA           PG-13   30000000.0      2000.0                  869.0   \n",
      "2286      USA               R   20000000.0      2004.0                  681.0   \n",
      "4541      USA               R     850000.0      2003.0                  813.0   \n",
      "998       USA             NaN          NaN         NaN                  512.0   \n",
      "372       USA               R   95000000.0      2000.0                  624.0   \n",
      "3830      USA               R    4000000.0      2014.0                  193.0   \n",
      "\n",
      "     imdb_score  aspect_ratio movie_facebook_likes  \n",
      "2542        6.8          2.35                    0  \n",
      "370         4.9          2.35                  988  \n",
      "4488        6.8          1.85                    0  \n",
      "265         6.7          2.35               123000  \n",
      "1721        6.4          1.85                    0  \n",
      "2286        6.1          1.85                    0  \n",
      "4541        7.2          1.85                    0  \n",
      "998         7.5         16.00                  915  \n",
      "372         5.7          1.85                    0  \n",
      "3830        8.0          1.85                92000  \n",
      "\n",
      "[10 rows x 28 columns]\n"
     ]
    }
   ],
   "source": [
    "movie_df = pd.read_csv(\"movie.csv\")\n",
    "print(movie_df.sample(10))"
   ]
  },
  {
   "cell_type": "code",
   "execution_count": 6,
   "metadata": {},
   "outputs": [
    {
     "name": "stdout",
     "output_type": "stream",
     "text": [
      "<class 'pandas.core.frame.DataFrame'>\n",
      "RangeIndex: 259396 entries, 0 to 259395\n",
      "Columns: 109 entries, Year to Div5TailNum\n",
      "dtypes: object(109)\n",
      "memory usage: 215.7+ MB\n",
      "None\n"
     ]
    }
   ],
   "source": [
    "\n",
    "flights_df = pd.read_parquet('flights/part-00019-aefaf364-d401-4e57-92a5-82fae6fdc855-c000.snappy.parquet')\n",
    "print(flights_df.info())\n"
   ]
  },
  {
   "cell_type": "code",
   "execution_count": 8,
   "metadata": {},
   "outputs": [
    {
     "name": "stdout",
     "output_type": "stream",
     "text": [
      "     sepallength  sepalwidth\n",
      "0            5.1         3.5\n",
      "1            4.9         3.0\n",
      "2            4.7         3.2\n",
      "3            4.6         3.1\n",
      "4            5.0         3.6\n",
      "..           ...         ...\n",
      "145          6.7         3.0\n",
      "146          6.3         2.5\n",
      "147          6.5         3.0\n",
      "148          6.2         3.4\n",
      "149          5.9         3.0\n",
      "\n",
      "[150 rows x 2 columns]\n"
     ]
    }
   ],
   "source": [
    "iris_df.columns = iris_df.columns.str.replace(' ', '').str.lower()\n",
    "selected_iris_df = iris_df[['sepallength', 'sepalwidth']]\n",
    "print(selected_iris_df)"
   ]
  },
  {
   "cell_type": "code",
   "execution_count": 11,
   "metadata": {},
   "outputs": [
    {
     "name": "stdout",
     "output_type": "stream",
     "text": [
      "     PassengerId  Survived  Pclass  \\\n",
      "1              2         1       1   \n",
      "3              4         1       1   \n",
      "4              5         0       3   \n",
      "6              7         0       1   \n",
      "11            12         1       1   \n",
      "..           ...       ...     ...   \n",
      "873          874         0       3   \n",
      "879          880         1       1   \n",
      "881          882         0       3   \n",
      "885          886         0       3   \n",
      "890          891         0       3   \n",
      "\n",
      "                                                  Name     Sex   Age  SibSp  \\\n",
      "1    Cumings, Mrs. John Bradley (Florence Briggs Th...  female  38.0      1   \n",
      "3         Futrelle, Mrs. Jacques Heath (Lily May Peel)  female  35.0      1   \n",
      "4                             Allen, Mr. William Henry    male  35.0      0   \n",
      "6                              McCarthy, Mr. Timothy J    male  54.0      0   \n",
      "11                            Bonnell, Miss. Elizabeth  female  58.0      0   \n",
      "..                                                 ...     ...   ...    ...   \n",
      "873                        Vander Cruyssen, Mr. Victor    male  47.0      0   \n",
      "879      Potter, Mrs. Thomas Jr (Lily Alexenia Wilson)  female  56.0      0   \n",
      "881                                 Markun, Mr. Johann    male  33.0      0   \n",
      "885               Rice, Mrs. William (Margaret Norton)  female  39.0      0   \n",
      "890                                Dooley, Mr. Patrick    male  32.0      0   \n",
      "\n",
      "     Parch    Ticket     Fare Cabin Embarked  \n",
      "1        0  PC 17599  71.2833   C85        C  \n",
      "3        0    113803  53.1000  C123        S  \n",
      "4        0    373450   8.0500   NaN        S  \n",
      "6        0     17463  51.8625   E46        S  \n",
      "11       0    113783  26.5500  C103        S  \n",
      "..     ...       ...      ...   ...      ...  \n",
      "873      0    345765   9.0000   NaN        S  \n",
      "879      1     11767  83.1583   C50        C  \n",
      "881      0    349257   7.8958   NaN        S  \n",
      "885      5    382652  29.1250   NaN        Q  \n",
      "890      0    370376   7.7500   NaN        Q  \n",
      "\n",
      "[305 rows x 12 columns]\n",
      "Sex\n",
      "male      577\n",
      "female    314\n",
      "Name: count, dtype: int64\n"
     ]
    }
   ],
   "source": [
    "filtered_titanic_df = titanic_df[titanic_df['Age'] > 30]\n",
    "print(filtered_titanic_df)\n",
    "gender_count = titanic_df['Sex'].value_counts()\n",
    "print(gender_count)\n"
   ]
  },
  {
   "cell_type": "code",
   "execution_count": 14,
   "metadata": {},
   "outputs": [
    {
     "name": "stdout",
     "output_type": "stream",
     "text": [
      "       Origin Dest Reporting_Airline\n",
      "0         DCA  LEX                YX\n",
      "1         DCA  BOS                YX\n",
      "2         BOS  DCA                YX\n",
      "3         BOS  IND                YX\n",
      "4         DCA  BOS                YX\n",
      "...       ...  ...               ...\n",
      "259391    ATL  DTW                DL\n",
      "259392    ATL  DTW                DL\n",
      "259393    ATL  DTW                DL\n",
      "259394    ATL  DTW                DL\n",
      "259395    ATL  DTW                DL\n",
      "\n",
      "[259396 rows x 3 columns]\n",
      "Number of unique destinations: 200\n"
     ]
    }
   ],
   "source": [
    "flights_subset = flights_df[['Origin', 'Dest', 'Reporting_Airline']]\n",
    "print(flights_subset)\n",
    "unique_destinations = flights_df['Dest'].nunique()\n",
    "print(f\"Number of unique destinations: {unique_destinations}\")\n"
   ]
  },
  {
   "cell_type": "code",
   "execution_count": 16,
   "metadata": {},
   "outputs": [
    {
     "name": "stdout",
     "output_type": "stream",
     "text": [
      "      color      director_name  num_critic_for_reviews  duration  \\\n",
      "66    Color  Christopher Nolan                   645.0     152.0   \n",
      "3     Color  Christopher Nolan                   813.0     164.0   \n",
      "120   Color  Christopher Nolan                   478.0     128.0   \n",
      "1222  Color  Christopher Nolan                   341.0     130.0   \n",
      "97    Color  Christopher Nolan                   642.0     148.0   \n",
      "...     ...                ...                     ...       ...   \n",
      "3357  Color                NaN                     9.0     142.0   \n",
      "3582  Color                NaN                    10.0     240.0   \n",
      "3799  Color                NaN                     2.0     199.0   \n",
      "4005  Color                NaN                     NaN     197.0   \n",
      "4031  Color                NaN                    10.0     173.0   \n",
      "\n",
      "      director_facebook_likes  actor_3_facebook_likes      actor_2_name  \\\n",
      "66                    22000.0                 11000.0      Heath Ledger   \n",
      "3                     22000.0                 23000.0    Christian Bale   \n",
      "120                   22000.0                 11000.0       Liam Neeson   \n",
      "1222                  22000.0                 19000.0      Hugh Jackman   \n",
      "97                    22000.0                 23000.0         Tom Hardy   \n",
      "...                       ...                     ...               ...   \n",
      "3357                      NaN                   427.0    Jack O'Connell   \n",
      "3582                      NaN                   334.0      Blake Ritson   \n",
      "3799                      NaN                   505.0  Jonathan Crombie   \n",
      "4005                      NaN                   110.0   Jessica De Gouw   \n",
      "4031                      NaN                   476.0        Colm Feore   \n",
      "\n",
      "      actor_1_facebook_likes        gross                            genres  \\\n",
      "66                   23000.0  533316061.0       Action|Crime|Drama|Thriller   \n",
      "3                    27000.0  448130642.0                   Action|Thriller   \n",
      "120                  23000.0  205343774.0                  Action|Adventure   \n",
      "1222                 23000.0   53082743.0     Drama|Mystery|Sci-Fi|Thriller   \n",
      "97                   29000.0  292568851.0  Action|Adventure|Sci-Fi|Thriller   \n",
      "...                      ...          ...                               ...   \n",
      "3357                 27000.0          NaN                     Drama|Romance   \n",
      "3582                   805.0          NaN              Comedy|Drama|Romance   \n",
      "3799                   662.0          NaN                      Drama|Family   \n",
      "4005                   578.0          NaN                         Drama|War   \n",
      "4031                   723.0          NaN            Horror|Sci-Fi|Thriller   \n",
      "\n",
      "      ... num_user_for_reviews language    country  content_rating  \\\n",
      "66    ...               4667.0  English        USA           PG-13   \n",
      "3     ...               2701.0  English        USA           PG-13   \n",
      "120   ...               2685.0  English        USA           PG-13   \n",
      "1222  ...               1100.0  English        USA           PG-13   \n",
      "97    ...               2803.0  English        USA           PG-13   \n",
      "...   ...                  ...      ...        ...             ...   \n",
      "3357  ...                 33.0  English         UK             NaN   \n",
      "3582  ...                 50.0  English         UK             NaN   \n",
      "3799  ...                 74.0  English     Canada            TV-G   \n",
      "4005  ...                  1.0  English  Australia             NaN   \n",
      "4031  ...                 33.0  English        USA             NaN   \n",
      "\n",
      "           budget  title_year actor_2_facebook_likes imdb_score  aspect_ratio  \\\n",
      "66    185000000.0      2008.0                13000.0        9.0          2.35   \n",
      "3     250000000.0      2012.0                23000.0        8.5          2.35   \n",
      "120   150000000.0      2005.0                14000.0        8.3          2.35   \n",
      "1222   40000000.0      2006.0                20000.0        8.5          2.35   \n",
      "97    160000000.0      2010.0                27000.0        8.8          2.35   \n",
      "...           ...         ...                    ...        ...           ...   \n",
      "3357          NaN         NaN                  698.0        7.7           NaN   \n",
      "3582          NaN         NaN                  432.0        8.2          1.78   \n",
      "3799          NaN         NaN                  517.0        8.4          1.33   \n",
      "4005   15000000.0         NaN                  476.0        7.4           NaN   \n",
      "4031          NaN         NaN                  539.0        5.0          1.78   \n",
      "\n",
      "     movie_facebook_likes  \n",
      "66                  37000  \n",
      "3                  164000  \n",
      "120                 15000  \n",
      "1222                49000  \n",
      "97                 175000  \n",
      "...                   ...  \n",
      "3357                    0  \n",
      "3582                    0  \n",
      "3799                    0  \n",
      "4005                  367  \n",
      "4031                  518  \n",
      "\n",
      "[1039 rows x 28 columns]\n"
     ]
    }
   ],
   "source": [
    "filtered_movie_df = movie_df[movie_df['duration'] > 120]\n",
    "sorted_movie_df = filtered_movie_df.sort_values(by='director_facebook_likes', ascending=False)\n",
    "print(sorted_movie_df)\n"
   ]
  },
  {
   "cell_type": "code",
   "execution_count": null,
   "metadata": {},
   "outputs": [
    {
     "name": "stdout",
     "output_type": "stream",
     "text": [
      "Mean:\n",
      " sepallength    5.843333\n",
      "sepalwidth     3.057333\n",
      "petallength    3.758000\n",
      "petalwidth     1.199333\n",
      "dtype: float64\n",
      "Median:\n",
      " sepallength    5.80\n",
      "sepalwidth     3.00\n",
      "petallength    4.35\n",
      "petalwidth     1.30\n",
      "dtype: float64\n",
      "Standard Deviation:\n",
      " sepallength    0.828066\n",
      "sepalwidth     0.435866\n",
      "petallength    1.765298\n",
      "petalwidth     0.762238\n",
      "dtype: float64\n"
     ]
    }
   ],
   "source": [
    "numeric_columns = iris_df.select_dtypes(include=['number'])\n",
    "mean_values = numeric_columns.mean()\n",
    "median_values = numeric_columns.median()\n",
    "std_values = numeric_columns.std()\n",
    "print(\"Mean:\\n\", mean_values)\n",
    "print(\"Median:\\n\", median_values)\n",
    "print(\"Standard Deviation:\\n\", std_values)\n"
   ]
  },
  {
   "cell_type": "code",
   "execution_count": 21,
   "metadata": {},
   "outputs": [
    {
     "name": "stdout",
     "output_type": "stream",
     "text": [
      "Minimum Age: 0.42\n",
      "Maximum Age: 80.0\n",
      "Sum of Ages: 21205.17\n"
     ]
    }
   ],
   "source": [
    "# Find minimum, maximum, and sum of passenger ages\n",
    "min_age = titanic_df['Age'].min()\n",
    "max_age = titanic_df['Age'].max()\n",
    "sum_age = titanic_df['Age'].sum()\n",
    "\n",
    "print(f\"Minimum Age: {min_age}\")\n",
    "print(f\"Maximum Age: {max_age}\")\n",
    "print(f\"Sum of Ages: {sum_age}\")\n"
   ]
  },
  {
   "cell_type": "code",
   "execution_count": 23,
   "metadata": {},
   "outputs": [
    {
     "name": "stdout",
     "output_type": "stream",
     "text": [
      "highest likes: Steven Spielberg (364000.0 likes)\n"
     ]
    }
   ],
   "source": [
    "director_likes = movie_df.groupby('director_name')['director_facebook_likes'].sum()\n",
    "top_director = director_likes.idxmax()\n",
    "top_likes = director_likes.max()\n",
    "print(f\"highest likes: {top_director} ({top_likes} likes)\")\n"
   ]
  },
  {
   "cell_type": "code",
   "execution_count": 24,
   "metadata": {},
   "outputs": [
    {
     "name": "stdout",
     "output_type": "stream",
     "text": [
      "                   movie_title  duration        director_name\n",
      "1694                   Trapped     511.0                  NaN\n",
      "2436                    Carlos     334.0                  NaN\n",
      "1487       Blood In, Blood Out     330.0      Taylor Hackford\n",
      "1134             Heaven's Gate     325.0       Michael Cimino\n",
      "3254  The Legend of Suriyothai     300.0  Chatrichalerm Yukol\n"
     ]
    }
   ],
   "source": [
    "longest_movies = movie_df.nlargest(5, 'duration')[['movie_title', 'duration', 'director_name']]\n",
    "print(longest_movies)"
   ]
  },
  {
   "cell_type": "code",
   "execution_count": 25,
   "metadata": {},
   "outputs": [
    {
     "name": "stdout",
     "output_type": "stream",
     "text": [
      "Missing values:\n",
      " Year                     0\n",
      "Quarter                  0\n",
      "Month                    0\n",
      "DayofMonth               0\n",
      "DayOfWeek                0\n",
      "                     ...  \n",
      "Div5WheelsOn        259396\n",
      "Div5TotalGTime      259396\n",
      "Div5LongestGTime    259396\n",
      "Div5WheelsOff       259396\n",
      "Div5TailNum         259396\n",
      "Length: 109, dtype: int64\n"
     ]
    }
   ],
   "source": [
    "missing_values = flights_df.isnull().sum()\n",
    "print(\"Missing values:\\n\", missing_values)"
   ]
  },
  {
   "cell_type": "code",
   "execution_count": 31,
   "metadata": {},
   "outputs": [],
   "source": [
    "flights_df['flight_duration'] = flights_df['flight_duration'].fillna(flights_df['flight_duration'].mean())"
   ]
  }
 ],
 "metadata": {
  "kernelspec": {
   "display_name": "Python 3",
   "language": "python",
   "name": "python3"
  },
  "language_info": {
   "codemirror_mode": {
    "name": "ipython",
    "version": 3
   },
   "file_extension": ".py",
   "mimetype": "text/x-python",
   "name": "python",
   "nbconvert_exporter": "python",
   "pygments_lexer": "ipython3",
   "version": "3.13.1"
  }
 },
 "nbformat": 4,
 "nbformat_minor": 2
}
